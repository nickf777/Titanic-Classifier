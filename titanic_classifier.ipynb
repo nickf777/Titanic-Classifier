{
 "cells": [
  {
   "cell_type": "code",
   "execution_count": 1,
   "id": "24081f29",
   "metadata": {},
   "outputs": [],
   "source": [
    "import pandas as pd\n",
    "import numpy as np\n",
    "import matplotlib.pyplot as plt\n",
    "import seaborn as sns\n",
    "import sklearn\n",
    "sns.set()"
   ]
  },
  {
   "cell_type": "code",
   "execution_count": 2,
   "id": "3327454f",
   "metadata": {},
   "outputs": [],
   "source": [
    "raw_train = pd.read_csv('train.csv')\n",
    "raw_test = pd.read_csv('test.csv')\n",
    "titanic_train = pd.read_csv('train.csv')\n",
    "titanic_test = pd.read_csv('test.csv')"
   ]
  },
  {
   "cell_type": "markdown",
   "id": "db70290d",
   "metadata": {},
   "source": [
    "# Exploratory Analysis"
   ]
  },
  {
   "cell_type": "code",
   "execution_count": 3,
   "id": "769f8c99",
   "metadata": {},
   "outputs": [
    {
     "data": {
      "text/html": [
       "<div>\n",
       "<style scoped>\n",
       "    .dataframe tbody tr th:only-of-type {\n",
       "        vertical-align: middle;\n",
       "    }\n",
       "\n",
       "    .dataframe tbody tr th {\n",
       "        vertical-align: top;\n",
       "    }\n",
       "\n",
       "    .dataframe thead th {\n",
       "        text-align: right;\n",
       "    }\n",
       "</style>\n",
       "<table border=\"1\" class=\"dataframe\">\n",
       "  <thead>\n",
       "    <tr style=\"text-align: right;\">\n",
       "      <th></th>\n",
       "      <th>PassengerId</th>\n",
       "      <th>Survived</th>\n",
       "      <th>Pclass</th>\n",
       "      <th>Name</th>\n",
       "      <th>Sex</th>\n",
       "      <th>Age</th>\n",
       "      <th>SibSp</th>\n",
       "      <th>Parch</th>\n",
       "      <th>Ticket</th>\n",
       "      <th>Fare</th>\n",
       "      <th>Cabin</th>\n",
       "      <th>Embarked</th>\n",
       "    </tr>\n",
       "  </thead>\n",
       "  <tbody>\n",
       "    <tr>\n",
       "      <th>0</th>\n",
       "      <td>1</td>\n",
       "      <td>0</td>\n",
       "      <td>3</td>\n",
       "      <td>Braund, Mr. Owen Harris</td>\n",
       "      <td>male</td>\n",
       "      <td>22.0</td>\n",
       "      <td>1</td>\n",
       "      <td>0</td>\n",
       "      <td>A/5 21171</td>\n",
       "      <td>7.2500</td>\n",
       "      <td>NaN</td>\n",
       "      <td>S</td>\n",
       "    </tr>\n",
       "    <tr>\n",
       "      <th>1</th>\n",
       "      <td>2</td>\n",
       "      <td>1</td>\n",
       "      <td>1</td>\n",
       "      <td>Cumings, Mrs. John Bradley (Florence Briggs Th...</td>\n",
       "      <td>female</td>\n",
       "      <td>38.0</td>\n",
       "      <td>1</td>\n",
       "      <td>0</td>\n",
       "      <td>PC 17599</td>\n",
       "      <td>71.2833</td>\n",
       "      <td>C85</td>\n",
       "      <td>C</td>\n",
       "    </tr>\n",
       "    <tr>\n",
       "      <th>2</th>\n",
       "      <td>3</td>\n",
       "      <td>1</td>\n",
       "      <td>3</td>\n",
       "      <td>Heikkinen, Miss. Laina</td>\n",
       "      <td>female</td>\n",
       "      <td>26.0</td>\n",
       "      <td>0</td>\n",
       "      <td>0</td>\n",
       "      <td>STON/O2. 3101282</td>\n",
       "      <td>7.9250</td>\n",
       "      <td>NaN</td>\n",
       "      <td>S</td>\n",
       "    </tr>\n",
       "    <tr>\n",
       "      <th>3</th>\n",
       "      <td>4</td>\n",
       "      <td>1</td>\n",
       "      <td>1</td>\n",
       "      <td>Futrelle, Mrs. Jacques Heath (Lily May Peel)</td>\n",
       "      <td>female</td>\n",
       "      <td>35.0</td>\n",
       "      <td>1</td>\n",
       "      <td>0</td>\n",
       "      <td>113803</td>\n",
       "      <td>53.1000</td>\n",
       "      <td>C123</td>\n",
       "      <td>S</td>\n",
       "    </tr>\n",
       "    <tr>\n",
       "      <th>4</th>\n",
       "      <td>5</td>\n",
       "      <td>0</td>\n",
       "      <td>3</td>\n",
       "      <td>Allen, Mr. William Henry</td>\n",
       "      <td>male</td>\n",
       "      <td>35.0</td>\n",
       "      <td>0</td>\n",
       "      <td>0</td>\n",
       "      <td>373450</td>\n",
       "      <td>8.0500</td>\n",
       "      <td>NaN</td>\n",
       "      <td>S</td>\n",
       "    </tr>\n",
       "  </tbody>\n",
       "</table>\n",
       "</div>"
      ],
      "text/plain": [
       "   PassengerId  Survived  Pclass  \\\n",
       "0            1         0       3   \n",
       "1            2         1       1   \n",
       "2            3         1       3   \n",
       "3            4         1       1   \n",
       "4            5         0       3   \n",
       "\n",
       "                                                Name     Sex   Age  SibSp  \\\n",
       "0                            Braund, Mr. Owen Harris    male  22.0      1   \n",
       "1  Cumings, Mrs. John Bradley (Florence Briggs Th...  female  38.0      1   \n",
       "2                             Heikkinen, Miss. Laina  female  26.0      0   \n",
       "3       Futrelle, Mrs. Jacques Heath (Lily May Peel)  female  35.0      1   \n",
       "4                           Allen, Mr. William Henry    male  35.0      0   \n",
       "\n",
       "   Parch            Ticket     Fare Cabin Embarked  \n",
       "0      0         A/5 21171   7.2500   NaN        S  \n",
       "1      0          PC 17599  71.2833   C85        C  \n",
       "2      0  STON/O2. 3101282   7.9250   NaN        S  \n",
       "3      0            113803  53.1000  C123        S  \n",
       "4      0            373450   8.0500   NaN        S  "
      ]
     },
     "execution_count": 3,
     "metadata": {},
     "output_type": "execute_result"
    }
   ],
   "source": [
    "titanic_train.head()\n",
    "# Survived: 0 = No, 1 = Yes\n",
    "# Pclass: Ticket Class\n",
    "# Sibsp: Number of siblings or spouses aboard the Titanic\n",
    "# Parch: Number of parents or children aboard the Titanic\n",
    "# Ticket: Ticket Number\n",
    "# Cabin: Cabin Number\n",
    "# Embarked: Where the passenger embarked. C = Cherbourg, Q = Queenstown, S = Southampton"
   ]
  },
  {
   "cell_type": "markdown",
   "id": "629a9822",
   "metadata": {},
   "source": [
    "The first step is to explore some basic characteristics of our dataset to determine what may or may not be useful in the creation of our model."
   ]
  },
  {
   "cell_type": "code",
   "execution_count": 4,
   "id": "783ed5e4",
   "metadata": {},
   "outputs": [
    {
     "data": {
      "image/png": "[encoded data removed]",
      "text/plain": [
       "<Figure size 720x720 with 1 Axes>"
      ]
     },
     "metadata": {},
     "output_type": "display_data"
    }
   ],
   "source": [
    "fig = plt.figure(figsize = (10,10))\n",
    "sns.boxplot(x = 'Pclass', y = 'Fare', orient = 'v', data = titanic_train)\n",
    "plt.xlabel('Passenger Class')\n",
    "plt.ylabel('Fare ($)')\n",
    "plt.yticks(np.arange(0,550,50))\n",
    "plt.show()"
   ]
  },
  {
   "cell_type": "markdown",
   "id": "03333f25",
   "metadata": {},
   "source": [
    "For all three social classes, the bulk of values sit below $ 50-100. However, there are quite a few outliers in all three social classes. It would be interesting to see how a higher fare might influence survival likelihood (for example, perhaps it would indicate preferential cabin placement closer to the deck, which would make it easier to evacuate). "
   ]
  },
  {
   "cell_type": "markdown",
   "id": "83a7b4f4",
   "metadata": {},
   "source": [
    "Next, it would be interesting to see a the distribution of survivors based on age and sex. "
   ]
  },
  {
   "cell_type": "code",
   "execution_count": 5,
   "id": "4e4e765f",
   "metadata": {},
   "outputs": [
    {
     "data": {
      "text/html": [
       "<div>\n",
       "<style scoped>\n",
       "    .dataframe tbody tr th:only-of-type {\n",
       "        vertical-align: middle;\n",
       "    }\n",
       "\n",
       "    .dataframe tbody tr th {\n",
       "        vertical-align: top;\n",
       "    }\n",
       "\n",
       "    .dataframe thead th {\n",
       "        text-align: right;\n",
       "    }\n",
       "</style>\n",
       "<table border=\"1\" class=\"dataframe\">\n",
       "  <thead>\n",
       "    <tr style=\"text-align: right;\">\n",
       "      <th></th>\n",
       "      <th>PassengerId</th>\n",
       "      <th>Survived</th>\n",
       "      <th>Pclass</th>\n",
       "      <th>Name</th>\n",
       "      <th>Sex</th>\n",
       "      <th>Age</th>\n",
       "      <th>SibSp</th>\n",
       "      <th>Parch</th>\n",
       "      <th>Ticket</th>\n",
       "      <th>Fare</th>\n",
       "      <th>Cabin</th>\n",
       "      <th>Embarked</th>\n",
       "    </tr>\n",
       "  </thead>\n",
       "  <tbody>\n",
       "    <tr>\n",
       "      <th>1</th>\n",
       "      <td>2</td>\n",
       "      <td>1</td>\n",
       "      <td>1</td>\n",
       "      <td>Cumings, Mrs. John Bradley (Florence Briggs Th...</td>\n",
       "      <td>female</td>\n",
       "      <td>38.0</td>\n",
       "      <td>1</td>\n",
       "      <td>0</td>\n",
       "      <td>PC 17599</td>\n",
       "      <td>71.2833</td>\n",
       "      <td>C85</td>\n",
       "      <td>C</td>\n",
       "    </tr>\n",
       "    <tr>\n",
       "      <th>2</th>\n",
       "      <td>3</td>\n",
       "      <td>1</td>\n",
       "      <td>3</td>\n",
       "      <td>Heikkinen, Miss. Laina</td>\n",
       "      <td>female</td>\n",
       "      <td>26.0</td>\n",
       "      <td>0</td>\n",
       "      <td>0</td>\n",
       "      <td>STON/O2. 3101282</td>\n",
       "      <td>7.9250</td>\n",
       "      <td>NaN</td>\n",
       "      <td>S</td>\n",
       "    </tr>\n",
       "    <tr>\n",
       "      <th>3</th>\n",
       "      <td>4</td>\n",
       "      <td>1</td>\n",
       "      <td>1</td>\n",
       "      <td>Futrelle, Mrs. Jacques Heath (Lily May Peel)</td>\n",
       "      <td>female</td>\n",
       "      <td>35.0</td>\n",
       "      <td>1</td>\n",
       "      <td>0</td>\n",
       "      <td>113803</td>\n",
       "      <td>53.1000</td>\n",
       "      <td>C123</td>\n",
       "      <td>S</td>\n",
       "    </tr>\n",
       "    <tr>\n",
       "      <th>8</th>\n",
       "      <td>9</td>\n",
       "      <td>1</td>\n",
       "      <td>3</td>\n",
       "      <td>Johnson, Mrs. Oscar W (Elisabeth Vilhelmina Berg)</td>\n",
       "      <td>female</td>\n",
       "      <td>27.0</td>\n",
       "      <td>0</td>\n",
       "      <td>2</td>\n",
       "      <td>347742</td>\n",
       "      <td>11.1333</td>\n",
       "      <td>NaN</td>\n",
       "      <td>S</td>\n",
       "    </tr>\n",
       "    <tr>\n",
       "      <th>9</th>\n",
       "      <td>10</td>\n",
       "      <td>1</td>\n",
       "      <td>2</td>\n",
       "      <td>Nasser, Mrs. Nicholas (Adele Achem)</td>\n",
       "      <td>female</td>\n",
       "      <td>14.0</td>\n",
       "      <td>1</td>\n",
       "      <td>0</td>\n",
       "      <td>237736</td>\n",
       "      <td>30.0708</td>\n",
       "      <td>NaN</td>\n",
       "      <td>C</td>\n",
       "    </tr>\n",
       "  </tbody>\n",
       "</table>\n",
       "</div>"
      ],
      "text/plain": [
       "   PassengerId  Survived  Pclass  \\\n",
       "1            2         1       1   \n",
       "2            3         1       3   \n",
       "3            4         1       1   \n",
       "8            9         1       3   \n",
       "9           10         1       2   \n",
       "\n",
       "                                                Name     Sex   Age  SibSp  \\\n",
       "1  Cumings, Mrs. John Bradley (Florence Briggs Th...  female  38.0      1   \n",
       "2                             Heikkinen, Miss. Laina  female  26.0      0   \n",
       "3       Futrelle, Mrs. Jacques Heath (Lily May Peel)  female  35.0      1   \n",
       "8  Johnson, Mrs. Oscar W (Elisabeth Vilhelmina Berg)  female  27.0      0   \n",
       "9                Nasser, Mrs. Nicholas (Adele Achem)  female  14.0      1   \n",
       "\n",
       "   Parch            Ticket     Fare Cabin Embarked  \n",
       "1      0          PC 17599  71.2833   C85        C  \n",
       "2      0  STON/O2. 3101282   7.9250   NaN        S  \n",
       "3      0            113803  53.1000  C123        S  \n",
       "8      2            347742  11.1333   NaN        S  \n",
       "9      0            237736  30.0708   NaN        C  "
      ]
     },
     "execution_count": 5,
     "metadata": {},
     "output_type": "execute_result"
    }
   ],
   "source": [
    "df_survivors = titanic_train[(titanic_train.Survived == 1)]\n",
    "df_survivors.head()"
   ]
  },
  {
   "cell_type": "code",
   "execution_count": 6,
   "id": "9da00939",
   "metadata": {},
   "outputs": [
    {
     "data": {
      "image/png": "[encoded data removed]",
      "text/plain": [
       "<Figure size 720x504 with 1 Axes>"
      ]
     },
     "metadata": {},
     "output_type": "display_data"
    }
   ],
   "source": [
    "plt.figure(figsize = (10,7))\n",
    "sns.histplot(x = 'Age', hue = 'Sex', element = 'step', data = df_survivors)\n",
    "plt.show()"
   ]
  },
  {
   "cell_type": "markdown",
   "id": "e54fe72b",
   "metadata": {},
   "source": [
    "We see a multimodal histogram when examining the count of survivors from age. We see the first peak between 0-5 years of age. These are likely passengers who would be cared for and heavily supervised by older passengers.  The distributions sees a secondary peak between 20 and 30 years of age, which gradually descends as passengers get older.\n",
    "\n",
    "The histogram also shows that far fewer men survived than women in age-ranges greater than 15-20 years of age. The distribution is really a testament to the statement 'women and children first'."
   ]
  },
  {
   "cell_type": "markdown",
   "id": "db207558",
   "metadata": {},
   "source": [
    "# Feature Engineering"
   ]
  },
  {
   "cell_type": "markdown",
   "id": "1a80bd27",
   "metadata": {},
   "source": [
    "In this next section, we will take a look at some new features we can create from the existing variables in the dataset.\n",
    "\n",
    "First, our column cabin won't really be useful in our model. However, the cabin column contains information about which deck the passengers were located on. This can be done by extracting the first letter from the cabin column.\n",
    "\n",
    "The Titanic had 10 decks in total, however passenger decks were located on decks B to G.\n",
    "\n",
    "This could be useful information, since it could be more difficult for a passenger to evacuate if they were located on a lower deck."
   ]
  },
  {
   "cell_type": "code",
   "execution_count": 7,
   "id": "cc596872",
   "metadata": {},
   "outputs": [],
   "source": [
    "titanic_train['Deck'] = titanic_train['Cabin'].str[0]\n",
    "titanic_train['Deck'] = titanic_train['Deck'].fillna('Unknown')\n",
    "titanic_train.head()\n",
    "#Same for test data:\n",
    "titanic_test['Deck'] = titanic_test['Cabin'].str[0]\n",
    "titanic_test['Deck'] = titanic_test['Deck'].fillna('Unknown')"
   ]
  },
  {
   "cell_type": "markdown",
   "id": "0b9e7c0e",
   "metadata": {},
   "source": [
    "Another interesting feature to create would be family size. \n",
    "\n",
    "This can easily be done by adding the columns SibSp and Parch (Siblings, Spouses, Parents, Children) together."
   ]
  },
  {
   "cell_type": "code",
   "execution_count": 8,
   "id": "e25c7aba",
   "metadata": {},
   "outputs": [],
   "source": [
    "titanic_train['FamilySize'] = titanic_train['SibSp'] + titanic_train['Parch']\n",
    "titanic_train.head()\n",
    "#Same for test data:\n",
    "titanic_test['FamilySize'] = titanic_test['SibSp'] + titanic_test['Parch']"
   ]
  },
  {
   "cell_type": "markdown",
   "id": "0b14d896",
   "metadata": {},
   "source": [
    "Finally, another interesting piece of information to look at would be the passenger's title. This can be extracted from the Name attribute."
   ]
  },
  {
   "cell_type": "code",
   "execution_count": 9,
   "id": "9a9ff648",
   "metadata": {},
   "outputs": [],
   "source": [
    "titanic_train[['LastName','FirstName']] = titanic_train['Name'].str.split(', ',expand = True)\n",
    "titanic_train['Title'] = titanic_train['FirstName'].str.split('.').str[0]\n",
    "titanic_train = titanic_train.drop(['FirstName','LastName'], axis = 1)\n",
    "titanic_train.head()\n",
    "#Same for test data:\n",
    "titanic_test[['LastName','FirstName']] = titanic_test['Name'].str.split(', ',expand = True)\n",
    "titanic_test['Title'] = titanic_test['FirstName'].str.split('.').str[0]\n",
    "titanic_test = titanic_test.drop(['FirstName','LastName'], axis = 1)"
   ]
  },
  {
   "cell_type": "markdown",
   "id": "14f8f0e9",
   "metadata": {},
   "source": [
    "These values might need to be grouped into a smaller number of more meaningful categories to be useful. I will revisit this later."
   ]
  },
  {
   "cell_type": "markdown",
   "id": "bfb02084",
   "metadata": {},
   "source": [
    "# Preprocessing The Data"
   ]
  },
  {
   "cell_type": "markdown",
   "id": "03f563e8",
   "metadata": {},
   "source": [
    "Before we start building our model, we have to preprocess the data to avoid later issues.\n",
    "We will start by examining null values in our dataset."
   ]
  },
  {
   "cell_type": "code",
   "execution_count": 10,
   "id": "9983c159",
   "metadata": {},
   "outputs": [
    {
     "data": {
      "text/plain": [
       "PassengerId      0\n",
       "Survived         0\n",
       "Pclass           0\n",
       "Name             0\n",
       "Sex              0\n",
       "Age            177\n",
       "SibSp            0\n",
       "Parch            0\n",
       "Ticket           0\n",
       "Fare             0\n",
       "Cabin          687\n",
       "Embarked         2\n",
       "Deck             0\n",
       "FamilySize       0\n",
       "Title            0\n",
       "dtype: int64"
      ]
     },
     "execution_count": 10,
     "metadata": {},
     "output_type": "execute_result"
    }
   ],
   "source": [
    "titanic_train.isnull().sum(axis = 0)"
   ]
  },
  {
   "cell_type": "markdown",
   "id": "ed952615",
   "metadata": {},
   "source": [
    "First, Embarked only has 2 null values. Since there won't be much data loss and accurate values are impossible to impute, we will just drop those rows."
   ]
  },
  {
   "cell_type": "code",
   "execution_count": 11,
   "id": "ce167f78",
   "metadata": {},
   "outputs": [
    {
     "data": {
      "text/plain": [
       "PassengerId      0\n",
       "Survived         0\n",
       "Pclass           0\n",
       "Name             0\n",
       "Sex              0\n",
       "Age            177\n",
       "SibSp            0\n",
       "Parch            0\n",
       "Ticket           0\n",
       "Fare             0\n",
       "Cabin          687\n",
       "Embarked         0\n",
       "Deck             0\n",
       "FamilySize       0\n",
       "Title            0\n",
       "dtype: int64"
      ]
     },
     "execution_count": 11,
     "metadata": {},
     "output_type": "execute_result"
    }
   ],
   "source": [
    "titanic_train = titanic_train[titanic_train['Embarked'].notna()]\n",
    "titanic_train.isnull().sum(axis = 0)"
   ]
  },
  {
   "cell_type": "code",
   "execution_count": 12,
   "id": "5c11247f",
   "metadata": {},
   "outputs": [
    {
     "data": {
      "text/plain": [
       "PassengerId      0\n",
       "Pclass           0\n",
       "Name             0\n",
       "Sex              0\n",
       "Age             86\n",
       "SibSp            0\n",
       "Parch            0\n",
       "Ticket           0\n",
       "Fare             1\n",
       "Cabin          327\n",
       "Embarked         0\n",
       "Deck             0\n",
       "FamilySize       0\n",
       "Title            0\n",
       "dtype: int64"
      ]
     },
     "execution_count": 12,
     "metadata": {},
     "output_type": "execute_result"
    }
   ],
   "source": [
    "# Doing the same for the test data. Embarked has 0 null values.\n",
    "titanic_test.isnull().sum(axis = 0)"
   ]
  },
  {
   "cell_type": "markdown",
   "id": "1039333b",
   "metadata": {},
   "source": [
    "Next, I want to restrict my training data to only relevant variables. For the purposes of this analysis, I will be removing PassengerId and Name. I will also be removing Cabin, as any relevant information is displayed by the newly created 'Deck' variable"
   ]
  },
  {
   "cell_type": "code",
   "execution_count": 13,
   "id": "a320ef91",
   "metadata": {},
   "outputs": [],
   "source": [
    "titanic_train = titanic_train.drop(['PassengerId','Name','Cabin'], axis = 1)\n",
    "#Same for the test data\n",
    "titanic_test = titanic_test.drop(['PassengerId','Name','Cabin'], axis = 1)"
   ]
  },
  {
   "cell_type": "markdown",
   "id": "c0286684",
   "metadata": {},
   "source": [
    "Next, I will handle the remainder of missing values, which occur in the age category. I'll start again by taking a look at the distribution of ages in our dataset to determine whether imputation of the mean or median is most appropriate for this variables"
   ]
  },
  {
   "cell_type": "code",
   "execution_count": 14,
   "id": "88546cb4",
   "metadata": {},
   "outputs": [
    {
     "data": {
      "image/png": "[encoded data removed]",
      "text/plain": [
       "<Figure size 720x504 with 1 Axes>"
      ]
     },
     "metadata": {},
     "output_type": "display_data"
    }
   ],
   "source": [
    "plt.figure(figsize = (10,7))\n",
    "sns.histplot(x = 'Age', data = titanic_train)\n",
    "plt.show()"
   ]
  },
  {
   "cell_type": "markdown",
   "id": "c4130327",
   "metadata": {},
   "source": [
    "The distribution is right skewed, with the bulk of values laying on the left of the histogram. This means that we will have a number of high value outliers that will inflate the mean. Therefore, because the distribution is so right skewed, I think that it would be more accurate to impute age with the median value than then the mean."
   ]
  },
  {
   "cell_type": "code",
   "execution_count": 15,
   "id": "d2910a05",
   "metadata": {},
   "outputs": [],
   "source": [
    "titanic_train['Age'].fillna(titanic_train['Age'].median(), inplace = True)\n",
    "titanic_train.isnull().sum(axis = 0)\n",
    "#Test Data:\n",
    "titanic_test['Age'].fillna(titanic_test['Age'].median(), inplace = True)"
   ]
  },
  {
   "cell_type": "markdown",
   "id": "84e7c1f0",
   "metadata": {},
   "source": [
    "I also want to examine the distribution of fare to see if it would benefit from normalization."
   ]
  },
  {
   "cell_type": "code",
   "execution_count": 16,
   "id": "150bc34e",
   "metadata": {},
   "outputs": [
    {
     "data": {
      "image/png": "[encoded data removed]",
      "text/plain": [
       "<Figure size 720x504 with 1 Axes>"
      ]
     },
     "metadata": {},
     "output_type": "display_data"
    }
   ],
   "source": [
    "plt.figure(figsize = (10,7))\n",
    "sns.histplot(x = 'Fare', data = titanic_train)\n",
    "plt.show()"
   ]
  },
  {
   "cell_type": "markdown",
   "id": "0892c090",
   "metadata": {},
   "source": [
    "The distribution of fare is extremely right skewed. Therefore, I will try log transforming fare in an effort to later reduce the overall error of the model's predictions.\n",
    "\n",
    "Note: I could not find a conclusive answer regarding 0 fare values online. \n",
    "\n",
    "I know that at least some of the 0 values were crew members who boarded in Southhampton and I do not have an explanation for the ones who were not crew members. Therefore, I don't feel entirely comfortable with completely removing or imputing the $0 values."
   ]
  },
  {
   "cell_type": "code",
   "execution_count": 17,
   "id": "940df64a",
   "metadata": {},
   "outputs": [
    {
     "data": {
      "image/png": "[encoded data removed]",
      "text/plain": [
       "<Figure size 720x504 with 1 Axes>"
      ]
     },
     "metadata": {},
     "output_type": "display_data"
    }
   ],
   "source": [
    "#Log + 1 to avoid divide by zero error\n",
    "titanic_train['Logfare'] = np.log(titanic_train['Fare']+1)\n",
    "plt.figure(figsize = (10,7))\n",
    "sns.histplot(x = 'Logfare', data = titanic_train)\n",
    "plt.show()\n",
    "#Test data:\n",
    "titanic_test['Logfare'] = np.log(titanic_test['Fare']+1)"
   ]
  },
  {
   "cell_type": "markdown",
   "id": "acda2167",
   "metadata": {},
   "source": [
    "This produces a more normalized version of fare that will likely be more useful in our model."
   ]
  },
  {
   "cell_type": "markdown",
   "id": "768c655f",
   "metadata": {},
   "source": [
    "Next, I need to encode all categorical variables in my dataset in order to use them. I will be using One Hot Encoding for this project. \n",
    "\n",
    "We will use One Hot Encoding because normal Label Encoding assumes an ordinal relationship between levels in a given categorical column, which can lead to poor performance on the model. One Hot Encoding eliminates this problem by creating dummy variables for each level of a given categorical variable."
   ]
  },
  {
   "cell_type": "code",
   "execution_count": 18,
   "id": "9e85c80f",
   "metadata": {},
   "outputs": [],
   "source": [
    "from sklearn.preprocessing import OneHotEncoder"
   ]
  },
  {
   "cell_type": "code",
   "execution_count": 19,
   "id": "eba8c520",
   "metadata": {},
   "outputs": [
    {
     "data": {
      "text/html": [
       "<div>\n",
       "<style scoped>\n",
       "    .dataframe tbody tr th:only-of-type {\n",
       "        vertical-align: middle;\n",
       "    }\n",
       "\n",
       "    .dataframe tbody tr th {\n",
       "        vertical-align: top;\n",
       "    }\n",
       "\n",
       "    .dataframe thead th {\n",
       "        text-align: right;\n",
       "    }\n",
       "</style>\n",
       "<table border=\"1\" class=\"dataframe\">\n",
       "  <thead>\n",
       "    <tr style=\"text-align: right;\">\n",
       "      <th></th>\n",
       "      <th>Pclass_2</th>\n",
       "      <th>Pclass_3</th>\n",
       "      <th>Sex_male</th>\n",
       "      <th>Age_0.67</th>\n",
       "      <th>Age_0.75</th>\n",
       "      <th>Age_0.83</th>\n",
       "      <th>Age_0.92</th>\n",
       "      <th>Age_1.0</th>\n",
       "      <th>Age_2.0</th>\n",
       "      <th>Age_3.0</th>\n",
       "      <th>...</th>\n",
       "      <th>Title_Master</th>\n",
       "      <th>Title_Miss</th>\n",
       "      <th>Title_Mlle</th>\n",
       "      <th>Title_Mme</th>\n",
       "      <th>Title_Mr</th>\n",
       "      <th>Title_Mrs</th>\n",
       "      <th>Title_Ms</th>\n",
       "      <th>Title_Rev</th>\n",
       "      <th>Title_Sir</th>\n",
       "      <th>Title_the Countess</th>\n",
       "    </tr>\n",
       "  </thead>\n",
       "  <tbody>\n",
       "    <tr>\n",
       "      <th>0</th>\n",
       "      <td>0.0</td>\n",
       "      <td>1.0</td>\n",
       "      <td>1.0</td>\n",
       "      <td>0.0</td>\n",
       "      <td>0.0</td>\n",
       "      <td>0.0</td>\n",
       "      <td>0.0</td>\n",
       "      <td>0.0</td>\n",
       "      <td>0.0</td>\n",
       "      <td>0.0</td>\n",
       "      <td>...</td>\n",
       "      <td>0.0</td>\n",
       "      <td>0.0</td>\n",
       "      <td>0.0</td>\n",
       "      <td>0.0</td>\n",
       "      <td>1.0</td>\n",
       "      <td>0.0</td>\n",
       "      <td>0.0</td>\n",
       "      <td>0.0</td>\n",
       "      <td>0.0</td>\n",
       "      <td>0.0</td>\n",
       "    </tr>\n",
       "    <tr>\n",
       "      <th>1</th>\n",
       "      <td>0.0</td>\n",
       "      <td>0.0</td>\n",
       "      <td>0.0</td>\n",
       "      <td>0.0</td>\n",
       "      <td>0.0</td>\n",
       "      <td>0.0</td>\n",
       "      <td>0.0</td>\n",
       "      <td>0.0</td>\n",
       "      <td>0.0</td>\n",
       "      <td>0.0</td>\n",
       "      <td>...</td>\n",
       "      <td>0.0</td>\n",
       "      <td>0.0</td>\n",
       "      <td>0.0</td>\n",
       "      <td>0.0</td>\n",
       "      <td>0.0</td>\n",
       "      <td>1.0</td>\n",
       "      <td>0.0</td>\n",
       "      <td>0.0</td>\n",
       "      <td>0.0</td>\n",
       "      <td>0.0</td>\n",
       "    </tr>\n",
       "    <tr>\n",
       "      <th>2</th>\n",
       "      <td>0.0</td>\n",
       "      <td>1.0</td>\n",
       "      <td>0.0</td>\n",
       "      <td>0.0</td>\n",
       "      <td>0.0</td>\n",
       "      <td>0.0</td>\n",
       "      <td>0.0</td>\n",
       "      <td>0.0</td>\n",
       "      <td>0.0</td>\n",
       "      <td>0.0</td>\n",
       "      <td>...</td>\n",
       "      <td>0.0</td>\n",
       "      <td>1.0</td>\n",
       "      <td>0.0</td>\n",
       "      <td>0.0</td>\n",
       "      <td>0.0</td>\n",
       "      <td>0.0</td>\n",
       "      <td>0.0</td>\n",
       "      <td>0.0</td>\n",
       "      <td>0.0</td>\n",
       "      <td>0.0</td>\n",
       "    </tr>\n",
       "    <tr>\n",
       "      <th>3</th>\n",
       "      <td>0.0</td>\n",
       "      <td>0.0</td>\n",
       "      <td>0.0</td>\n",
       "      <td>0.0</td>\n",
       "      <td>0.0</td>\n",
       "      <td>0.0</td>\n",
       "      <td>0.0</td>\n",
       "      <td>0.0</td>\n",
       "      <td>0.0</td>\n",
       "      <td>0.0</td>\n",
       "      <td>...</td>\n",
       "      <td>0.0</td>\n",
       "      <td>0.0</td>\n",
       "      <td>0.0</td>\n",
       "      <td>0.0</td>\n",
       "      <td>0.0</td>\n",
       "      <td>1.0</td>\n",
       "      <td>0.0</td>\n",
       "      <td>0.0</td>\n",
       "      <td>0.0</td>\n",
       "      <td>0.0</td>\n",
       "    </tr>\n",
       "    <tr>\n",
       "      <th>4</th>\n",
       "      <td>0.0</td>\n",
       "      <td>1.0</td>\n",
       "      <td>1.0</td>\n",
       "      <td>0.0</td>\n",
       "      <td>0.0</td>\n",
       "      <td>0.0</td>\n",
       "      <td>0.0</td>\n",
       "      <td>0.0</td>\n",
       "      <td>0.0</td>\n",
       "      <td>0.0</td>\n",
       "      <td>...</td>\n",
       "      <td>0.0</td>\n",
       "      <td>0.0</td>\n",
       "      <td>0.0</td>\n",
       "      <td>0.0</td>\n",
       "      <td>1.0</td>\n",
       "      <td>0.0</td>\n",
       "      <td>0.0</td>\n",
       "      <td>0.0</td>\n",
       "      <td>0.0</td>\n",
       "      <td>0.0</td>\n",
       "    </tr>\n",
       "  </tbody>\n",
       "</table>\n",
       "<p>5 rows × 815 columns</p>\n",
       "</div>"
      ],
      "text/plain": [
       "   Pclass_2  Pclass_3  Sex_male  Age_0.67  Age_0.75  Age_0.83  Age_0.92  \\\n",
       "0       0.0       1.0       1.0       0.0       0.0       0.0       0.0   \n",
       "1       0.0       0.0       0.0       0.0       0.0       0.0       0.0   \n",
       "2       0.0       1.0       0.0       0.0       0.0       0.0       0.0   \n",
       "3       0.0       0.0       0.0       0.0       0.0       0.0       0.0   \n",
       "4       0.0       1.0       1.0       0.0       0.0       0.0       0.0   \n",
       "\n",
       "   Age_1.0  Age_2.0  Age_3.0  ...  Title_Master  Title_Miss  Title_Mlle  \\\n",
       "0      0.0      0.0      0.0  ...           0.0         0.0         0.0   \n",
       "1      0.0      0.0      0.0  ...           0.0         0.0         0.0   \n",
       "2      0.0      0.0      0.0  ...           0.0         1.0         0.0   \n",
       "3      0.0      0.0      0.0  ...           0.0         0.0         0.0   \n",
       "4      0.0      0.0      0.0  ...           0.0         0.0         0.0   \n",
       "\n",
       "   Title_Mme  Title_Mr  Title_Mrs  Title_Ms  Title_Rev  Title_Sir  \\\n",
       "0        0.0       1.0        0.0       0.0        0.0        0.0   \n",
       "1        0.0       0.0        1.0       0.0        0.0        0.0   \n",
       "2        0.0       0.0        0.0       0.0        0.0        0.0   \n",
       "3        0.0       0.0        1.0       0.0        0.0        0.0   \n",
       "4        0.0       1.0        0.0       0.0        0.0        0.0   \n",
       "\n",
       "   Title_the Countess  \n",
       "0                 0.0  \n",
       "1                 0.0  \n",
       "2                 0.0  \n",
       "3                 0.0  \n",
       "4                 0.0  \n",
       "\n",
       "[5 rows x 815 columns]"
      ]
     },
     "execution_count": 19,
     "metadata": {},
     "output_type": "execute_result"
    }
   ],
   "source": [
    "#Initialize with drop = 'first' to avoid perfect multicolinearity between dummy variables. \n",
    "ohe = OneHotEncoder(categories = 'auto', drop = 'first', sparse = False)\n",
    "\n",
    "ohe_titanic_train = pd.DataFrame(ohe.fit_transform(titanic_train[['Pclass','Sex','Age','SibSp','Parch','Ticket','Embarked','Deck','FamilySize','Title']]))\n",
    "dummy_names = ohe_titanic_train.columns.values\n",
    "feature_names = ohe.get_feature_names_out()\n",
    "\n",
    "col_rename_dict = {i:j for i,j in zip(dummy_names,feature_names)}\n",
    "ohe_titanic_train.rename(columns=col_rename_dict, inplace = True)\n",
    "ohe_titanic_train.head()"
   ]
  },
  {
   "cell_type": "code",
   "execution_count": 20,
   "id": "6c0283a5",
   "metadata": {},
   "outputs": [],
   "source": [
    "#Test Data:\n",
    "ohe = OneHotEncoder(categories = 'auto', drop = 'first', sparse = False)\n",
    "ohe_titanic_test = pd.DataFrame(ohe.fit_transform(titanic_test[['Pclass','Sex','Age','SibSp','Parch','Ticket','Embarked','Deck','FamilySize','Title']]))\n",
    "test_dummy_names = ohe_titanic_test.columns.values\n",
    "test_feature_names = ohe.get_feature_names_out()\n",
    "\n",
    "test_col_rename_dict = {i:j for i,j in zip(test_dummy_names,test_feature_names)}\n",
    "ohe_titanic_test.rename(columns=test_col_rename_dict, inplace = True)"
   ]
  },
  {
   "cell_type": "code",
   "execution_count": 21,
   "id": "cca123dd",
   "metadata": {},
   "outputs": [],
   "source": [
    "from sklearn.preprocessing import StandardScaler\n",
    "scaler = StandardScaler()\n",
    "titanic_train['Logfare'].shape\n",
    "fare_reshape = np.array(titanic_train['Logfare']).reshape(-1,1)\n",
    "scaler.fit(fare_reshape)\n",
    "logfare_scaled = scaler.transform(fare_reshape)"
   ]
  },
  {
   "cell_type": "code",
   "execution_count": 22,
   "id": "4cd1c274",
   "metadata": {},
   "outputs": [],
   "source": [
    "ohe_titanic_train['Survived'] = titanic_train['Survived']\n",
    "ohe_titanic_train['LogfareScaled'] = logfare_scaled"
   ]
  },
  {
   "cell_type": "code",
   "execution_count": 23,
   "id": "7e9d6a90",
   "metadata": {},
   "outputs": [],
   "source": [
    "#Test Data\n",
    "test_logfare_scaled = scaler.transform(np.array(titanic_test['Logfare']).reshape(-1,1))\n",
    "ohe_titanic_test['LogfareScaled'] = test_logfare_scaled"
   ]
  },
  {
   "cell_type": "code",
   "execution_count": 24,
   "id": "75342bed",
   "metadata": {},
   "outputs": [],
   "source": [
    "ohe_titanic_train = ohe_titanic_train.loc[np.isnan(ohe_titanic_train['Survived']) == False]"
   ]
  },
  {
   "cell_type": "code",
   "execution_count": 25,
   "id": "34b80f22",
   "metadata": {},
   "outputs": [],
   "source": [
    "x_train = ohe_titanic_train.drop(['Survived'],axis = 1)\n",
    "y_train = ohe_titanic_train['Survived']"
   ]
  },
  {
   "cell_type": "markdown",
   "id": "8bfaf037",
   "metadata": {},
   "source": [
    "# Building The Model"
   ]
  },
  {
   "cell_type": "markdown",
   "id": "c1cd2dcb",
   "metadata": {},
   "source": [
    "For the purposes of my first machine learning project, I will be using an logistic regression. We will start by using all features in our dataframe to predict survival"
   ]
  },
  {
   "cell_type": "code",
   "execution_count": 26,
   "id": "6b82655e",
   "metadata": {},
   "outputs": [],
   "source": [
    "from sklearn.model_selection import train_test_split"
   ]
  },
  {
   "cell_type": "code",
   "execution_count": 27,
   "id": "573df4a5",
   "metadata": {},
   "outputs": [],
   "source": [
    "x_train, x_test, y_train, y_test = train_test_split(x_train,y_train,test_size = 0.33,random_state = 42)"
   ]
  },
  {
   "cell_type": "code",
   "execution_count": 28,
   "id": "7b76b4e8",
   "metadata": {},
   "outputs": [],
   "source": [
    "from sklearn.linear_model import LogisticRegression"
   ]
  },
  {
   "cell_type": "code",
   "execution_count": 29,
   "id": "2656f7c9",
   "metadata": {},
   "outputs": [
    {
     "data": {
      "text/plain": [
       "LogisticRegression()"
      ]
     },
     "execution_count": 29,
     "metadata": {},
     "output_type": "execute_result"
    }
   ],
   "source": [
    "lgm = LogisticRegression()\n",
    "lgm.fit(x_train,y_train)"
   ]
  },
  {
   "cell_type": "code",
   "execution_count": 30,
   "id": "f7db6690",
   "metadata": {},
   "outputs": [],
   "source": [
    "predictions = lgm.predict(x_test)"
   ]
  },
  {
   "cell_type": "code",
   "execution_count": 31,
   "id": "1076d9d2",
   "metadata": {},
   "outputs": [],
   "source": [
    "from sklearn.metrics import classification_report"
   ]
  },
  {
   "cell_type": "code",
   "execution_count": 32,
   "id": "9ef8c18c",
   "metadata": {},
   "outputs": [
    {
     "name": "stdout",
     "output_type": "stream",
     "text": [
      "              precision    recall  f1-score   support\n",
      "\n",
      "         0.0       0.60      0.85      0.70       174\n",
      "         1.0       0.43      0.17      0.24       119\n",
      "\n",
      "    accuracy                           0.57       293\n",
      "   macro avg       0.52      0.51      0.47       293\n",
      "weighted avg       0.53      0.57      0.52       293\n",
      "\n"
     ]
    }
   ],
   "source": [
    "print(classification_report(y_test, predictions))"
   ]
  },
  {
   "cell_type": "markdown",
   "id": "a7f571c6",
   "metadata": {},
   "source": [
    "As we can see, this model is barely better than a coinflip. It was able to predict survival correctly 57% of the time. Now we will perform feature selection"
   ]
  },
  {
   "cell_type": "code",
   "execution_count": 33,
   "id": "890606ea",
   "metadata": {},
   "outputs": [
    {
     "name": "stdout",
     "output_type": "stream",
     "text": [
      "Imported featurewiz. Version = 0.1.13. nrows=None uses all rows. Set nrows=1000 to randomly sample 1000 rows.\n",
      "outputs = featurewiz(dataname, target, corr_limit=0.70, verbose=2, sep=',', \n",
      "\t\theader=0, test_data='',feature_engg='', category_encoders='',\n",
      "\t\tdask_xgboost_flag=False, nrows=None)\n",
      "Create new features via 'feature_engg' flag : ['interactions','groupby','target']\n",
      "                                \n"
     ]
    }
   ],
   "source": [
    "from featurewiz import featurewiz"
   ]
  },
  {
   "cell_type": "code",
   "execution_count": 34,
   "id": "d6e52909",
   "metadata": {},
   "outputs": [],
   "source": [
    "target = 'Survived'\n",
    "titanic_train['LogfareScaled'] = logfare_scaled\n",
    "titanic_train = titanic_train.drop(['Logfare','Fare'], axis = 1)"
   ]
  },
  {
   "cell_type": "code",
   "execution_count": 36,
   "id": "9284d8e1",
   "metadata": {},
   "outputs": [
    {
     "name": "stdout",
     "output_type": "stream",
     "text": [
      "############################################################################################\n",
      "############       F A S T   F E A T U R E  E N G G    A N D    S E L E C T I O N ! ########\n",
      "# Be judicious with featurewiz. Don't use it to create too many un-interpretable features! #\n",
      "############################################################################################\n",
      "Skipping feature engineering since no feature_engg input...\n",
      "**INFO: featurewiz can now read feather formatted files. Loading train data...\n",
      "    Shape of your Data Set loaded: (889, 12)\n",
      "    Caution: We will try to reduce the memory usage of dataframe from 0.12 MB\n",
      "        memory usage after optimization is: 0.07 MB\n",
      "        decreased by 38.8%\n",
      "     Loaded. Shape = (889, 12)\n",
      "No test data filename given...\n",
      "############## C L A S S I F Y I N G  V A R I A B L E S  ####################\n",
      "Classifying variables in data set...\n",
      "    11 Predictors classified...\n",
      "        No variables removed since no ID or low-information variables found in data set\n",
      "No GPU active on this device\n",
      "    Tuning XGBoost using CPU hyper-parameters. This will take time...\n",
      "Removing 0 columns from further processing since ID or low information variables\n",
      "    columns removed: []\n",
      "    After removing redundant variables from further processing, features left = 11\n",
      "No interactions created for categorical vars since feature engg does not specify it\n",
      "#### Single_Label Multi_Classification problem ####\n",
      "Completed label encoding of target variable = Pclass\n",
      "How model predictions need to be transformed for Pclass:\n",
      "{0: 1, 1: 2, 2: 3}\n",
      "    Starting feature engineering...Since no test data is given, splitting train into two...\n",
      "Source X_train shape:  (711, 11)\n",
      "| Source X_test shape:  (178, 11)\n",
      "##################################################\n",
      "> Start preprocessing with 11 variables\n",
      "> Cleaned NaNs in numeric features\n",
      " + test and train have similar NaN columns\n",
      "##################################################\n",
      "> Final Number of Features:  11\n",
      "##################################################\n",
      "New X_train rows: 711, X_test rows: 178\n",
      "New X_train columns: 11, X_test columns: 11\n",
      "    Completed feature engineering. Shape of Train (with target) = (889, 12)\n",
      "Searching for highly correlated variables from 7 variables using SULOV method\n",
      "#####  SULOV : Searching for Uncorrelated List Of Variables (takes time...) ############\n",
      "There are no null values in dataset.\n",
      "    Caution: We will try to reduce the memory usage of dataframe from 0.04 MB\n",
      "        memory usage after optimization is: 0.04 MB\n",
      "        decreased by 0.0%\n",
      "    Removing (2) highly correlated variables:\n",
      "    ['SibSp', 'Parch']\n",
      "    Following (5) vars selected: ['Sex', 'Age', 'LogfareScaled', 'Survived', 'FamilySize']\n"
     ]
    },
    {
     "data": {
      "image/png": "[encoded data removed]",
      "text/plain": [
       "<Figure size 1080x360 with 1 Axes>"
      ]
     },
     "metadata": {},
     "output_type": "display_data"
    },
    {
     "name": "stdout",
     "output_type": "stream",
     "text": [
      "Time taken for SULOV method = 0 seconds\n",
      "    Adding 4 categorical variables to reduced numeric variables  of 5\n",
      "Final list of selected vars after SULOV = 9\n",
      "############## F E A T U R E   S E L E C T I O N  ####################\n",
      "    using regular XGBoost\n",
      "Train and Test loaded into Dask dataframes successfully after feature_engg completed\n",
      "Since  category encoding is done, dropping original categorical vars from predictors...\n",
      "Current number of predictors = 5 \n",
      "    XGBoost version: 1.5.2\n",
      "Number of booster rounds = 100\n",
      "        using 5 variables...\n",
      "            Time taken for regular XGBoost feature selection = 0 seconds\n",
      "        using 3 variables...\n",
      "            Time taken for regular XGBoost feature selection = 0 seconds\n",
      "        using 1 variables...\n",
      "            Time taken for regular XGBoost feature selection = 0 seconds\n"
     ]
    },
    {
     "data": {
      "image/png": "[encoded data removed]",
      "text/plain": [
       "<Figure size 720x720 with 4 Axes>"
      ]
     },
     "metadata": {},
     "output_type": "display_data"
    },
    {
     "name": "stdout",
     "output_type": "stream",
     "text": [
      "            Total time taken for XGBoost feature selection = 1 seconds\n",
      "No ID variables [] are selected since they are not considered important for modeling\n",
      "Selected 5 important features:\n",
      "['LogfareScaled', 'FamilySize', 'Survived', 'Age', 'Sex']\n",
      "    Time taken = 1 seconds\n",
      "    Reverted column names to original names given in train dataset\n",
      "Returning list of 5 important features and a dataframe.\n"
     ]
    }
   ],
   "source": [
    "features, train = featurewiz(titanic_train, target,corr_limit = 0.7, verbose = 2, sep=',',header=0,\n",
    "                             test_data ='',feature_engg='',category_encoders='OneHotEncoder')"
   ]
  },
  {
   "cell_type": "markdown",
   "id": "6bb6ca6d",
   "metadata": {},
   "source": [
    "['LogfareScaled', 'FamilySize', 'Survived', 'Age', 'Sex'] will be used for our final model"
   ]
  },
  {
   "cell_type": "code",
   "execution_count": 37,
   "id": "06277219",
   "metadata": {},
   "outputs": [],
   "source": [
    "X_new = train.drop('Survived', axis = 1)\n",
    "y = train['Survived']"
   ]
  },
  {
   "cell_type": "code",
   "execution_count": 38,
   "id": "3f1e6a94",
   "metadata": {},
   "outputs": [],
   "source": [
    "X_train, X_valid, y_train, y_valid = train_test_split(X_new, y, test_size = 0.33, random_state = 42)"
   ]
  },
  {
   "cell_type": "code",
   "execution_count": 39,
   "id": "b86a5ec4",
   "metadata": {},
   "outputs": [
    {
     "data": {
      "text/plain": [
       "LogisticRegression()"
      ]
     },
     "execution_count": 39,
     "metadata": {},
     "output_type": "execute_result"
    }
   ],
   "source": [
    "lgm = lgm = LogisticRegression()\n",
    "lgm.fit(X_train,y_train)"
   ]
  },
  {
   "cell_type": "code",
   "execution_count": 40,
   "id": "12a4e37b",
   "metadata": {},
   "outputs": [],
   "source": [
    "predictions = lgm.predict(X_valid)"
   ]
  },
  {
   "cell_type": "code",
   "execution_count": 42,
   "id": "0ab14c63",
   "metadata": {},
   "outputs": [
    {
     "name": "stdout",
     "output_type": "stream",
     "text": [
      "              precision    recall  f1-score   support\n",
      "\n",
      "           0       0.86      0.83      0.85       184\n",
      "           1       0.73      0.77      0.75       110\n",
      "\n",
      "    accuracy                           0.81       294\n",
      "   macro avg       0.80      0.80      0.80       294\n",
      "weighted avg       0.81      0.81      0.81       294\n",
      "\n"
     ]
    }
   ],
   "source": [
    "print(classification_report(y_valid, predictions))"
   ]
  },
  {
   "cell_type": "code",
   "execution_count": null,
   "id": "022344df",
   "metadata": {},
   "outputs": [],
   "source": []
  }
 ],
 "metadata": {
  "kernelspec": {
   "display_name": "Python 3 (ipykernel)",
   "language": "python",
   "name": "python3"
  },
  "language_info": {
   "codemirror_mode": {
    "name": "ipython",
    "version": 3
   },
   "file_extension": ".py",
   "mimetype": "text/x-python",
   "name": "python",
   "nbconvert_exporter": "python",
   "pygments_lexer": "ipython3",
   "version": "3.8.8"
  }
 },
 "nbformat": 4,
 "nbformat_minor": 5
}
