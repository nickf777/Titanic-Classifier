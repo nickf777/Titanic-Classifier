{
 "cells": [
  {
   "cell_type": "code",
   "execution_count": 1,
   "id": "24081f29",
   "metadata": {},
   "outputs": [],
   "source": [
    "import pandas as pd\n",
    "import numpy as np\n",
    "import matplotlib.pyplot as plt\n",
    "import seaborn as sns\n",
    "import sklearn\n",
    "from sklearn.preprocessing import OneHotEncoder\n",
    "from sklearn.compose import ColumnTransformer\n",
    "from sklearn.pipeline import Pipeline\n",
    "from sklearn.preprocessing import StandardScaler\n",
    "from sklearn.model_selection import train_test_split\n",
    "\n",
    "sns.set()"
   ]
  },
  {
   "cell_type": "code",
   "execution_count": 2,
   "id": "3327454f",
   "metadata": {},
   "outputs": [],
   "source": [
    "raw_train = pd.read_csv('train.csv')\n",
    "raw_test = pd.read_csv('test.csv')\n",
    "titanic_train = pd.read_csv('train.csv')\n",
    "titanic_test = pd.read_csv('test.csv')"
   ]
  },
  {
   "cell_type": "markdown",
   "id": "db70290d",
   "metadata": {},
   "source": [
    "# Exploratory Analysis"
   ]
  },
  {
   "cell_type": "code",
   "execution_count": 3,
   "id": "769f8c99",
   "metadata": {},
   "outputs": [
    {
     "data": {
      "text/html": [
       "<div>\n",
       "<style scoped>\n",
       "    .dataframe tbody tr th:only-of-type {\n",
       "        vertical-align: middle;\n",
       "    }\n",
       "\n",
       "    .dataframe tbody tr th {\n",
       "        vertical-align: top;\n",
       "    }\n",
       "\n",
       "    .dataframe thead th {\n",
       "        text-align: right;\n",
       "    }\n",
       "</style>\n",
       "<table border=\"1\" class=\"dataframe\">\n",
       "  <thead>\n",
       "    <tr style=\"text-align: right;\">\n",
       "      <th></th>\n",
       "      <th>PassengerId</th>\n",
       "      <th>Survived</th>\n",
       "      <th>Pclass</th>\n",
       "      <th>Name</th>\n",
       "      <th>Sex</th>\n",
       "      <th>Age</th>\n",
       "      <th>SibSp</th>\n",
       "      <th>Parch</th>\n",
       "      <th>Ticket</th>\n",
       "      <th>Fare</th>\n",
       "      <th>Cabin</th>\n",
       "      <th>Embarked</th>\n",
       "    </tr>\n",
       "  </thead>\n",
       "  <tbody>\n",
       "    <tr>\n",
       "      <th>0</th>\n",
       "      <td>1</td>\n",
       "      <td>0</td>\n",
       "      <td>3</td>\n",
       "      <td>Braund, Mr. Owen Harris</td>\n",
       "      <td>male</td>\n",
       "      <td>22.0</td>\n",
       "      <td>1</td>\n",
       "      <td>0</td>\n",
       "      <td>A/5 21171</td>\n",
       "      <td>7.2500</td>\n",
       "      <td>NaN</td>\n",
       "      <td>S</td>\n",
       "    </tr>\n",
       "    <tr>\n",
       "      <th>1</th>\n",
       "      <td>2</td>\n",
       "      <td>1</td>\n",
       "      <td>1</td>\n",
       "      <td>Cumings, Mrs. John Bradley (Florence Briggs Th...</td>\n",
       "      <td>female</td>\n",
       "      <td>38.0</td>\n",
       "      <td>1</td>\n",
       "      <td>0</td>\n",
       "      <td>PC 17599</td>\n",
       "      <td>71.2833</td>\n",
       "      <td>C85</td>\n",
       "      <td>C</td>\n",
       "    </tr>\n",
       "    <tr>\n",
       "      <th>2</th>\n",
       "      <td>3</td>\n",
       "      <td>1</td>\n",
       "      <td>3</td>\n",
       "      <td>Heikkinen, Miss. Laina</td>\n",
       "      <td>female</td>\n",
       "      <td>26.0</td>\n",
       "      <td>0</td>\n",
       "      <td>0</td>\n",
       "      <td>STON/O2. 3101282</td>\n",
       "      <td>7.9250</td>\n",
       "      <td>NaN</td>\n",
       "      <td>S</td>\n",
       "    </tr>\n",
       "    <tr>\n",
       "      <th>3</th>\n",
       "      <td>4</td>\n",
       "      <td>1</td>\n",
       "      <td>1</td>\n",
       "      <td>Futrelle, Mrs. Jacques Heath (Lily May Peel)</td>\n",
       "      <td>female</td>\n",
       "      <td>35.0</td>\n",
       "      <td>1</td>\n",
       "      <td>0</td>\n",
       "      <td>113803</td>\n",
       "      <td>53.1000</td>\n",
       "      <td>C123</td>\n",
       "      <td>S</td>\n",
       "    </tr>\n",
       "    <tr>\n",
       "      <th>4</th>\n",
       "      <td>5</td>\n",
       "      <td>0</td>\n",
       "      <td>3</td>\n",
       "      <td>Allen, Mr. William Henry</td>\n",
       "      <td>male</td>\n",
       "      <td>35.0</td>\n",
       "      <td>0</td>\n",
       "      <td>0</td>\n",
       "      <td>373450</td>\n",
       "      <td>8.0500</td>\n",
       "      <td>NaN</td>\n",
       "      <td>S</td>\n",
       "    </tr>\n",
       "  </tbody>\n",
       "</table>\n",
       "</div>"
      ],
      "text/plain": [
       "   PassengerId  Survived  Pclass  \\\n",
       "0            1         0       3   \n",
       "1            2         1       1   \n",
       "2            3         1       3   \n",
       "3            4         1       1   \n",
       "4            5         0       3   \n",
       "\n",
       "                                                Name     Sex   Age  SibSp  \\\n",
       "0                            Braund, Mr. Owen Harris    male  22.0      1   \n",
       "1  Cumings, Mrs. John Bradley (Florence Briggs Th...  female  38.0      1   \n",
       "2                             Heikkinen, Miss. Laina  female  26.0      0   \n",
       "3       Futrelle, Mrs. Jacques Heath (Lily May Peel)  female  35.0      1   \n",
       "4                           Allen, Mr. William Henry    male  35.0      0   \n",
       "\n",
       "   Parch            Ticket     Fare Cabin Embarked  \n",
       "0      0         A/5 21171   7.2500   NaN        S  \n",
       "1      0          PC 17599  71.2833   C85        C  \n",
       "2      0  STON/O2. 3101282   7.9250   NaN        S  \n",
       "3      0            113803  53.1000  C123        S  \n",
       "4      0            373450   8.0500   NaN        S  "
      ]
     },
     "execution_count": 3,
     "metadata": {},
     "output_type": "execute_result"
    }
   ],
   "source": [
    "titanic_train.head()\n",
    "# Survived: 0 = No, 1 = Yes\n",
    "# Pclass: Ticket Class\n",
    "# Sibsp: Number of siblings or spouses aboard the Titanic\n",
    "# Parch: Number of parents or children aboard the Titanic\n",
    "# Ticket: Ticket Number\n",
    "# Cabin: Cabin Number\n",
    "# Embarked: Where the passenger embarked. C = Cherbourg, Q = Queenstown, S = Southampton"
   ]
  },
  {
   "cell_type": "markdown",
   "id": "629a9822",
   "metadata": {},
   "source": [
    "The first step is to explore some basic characteristics of our dataset to determine what may or may not be useful in the creation of our model."
   ]
  },
  {
   "cell_type": "code",
   "execution_count": 4,
   "id": "783ed5e4",
   "metadata": {},
   "outputs": [
    {
     "data": {
      "image/png": "[encoded data removed]",
      "text/plain": [
       "<Figure size 720x720 with 1 Axes>"
      ]
     },
     "metadata": {},
     "output_type": "display_data"
    }
   ],
   "source": [
    "fig = plt.figure(figsize = (10,10))\n",
    "sns.boxplot(x = 'Pclass', y = 'Fare', orient = 'v', data = titanic_train)\n",
    "plt.xlabel('Passenger Class')\n",
    "plt.ylabel('Fare ($)')\n",
    "plt.yticks(np.arange(0,550,50))\n",
    "plt.show()"
   ]
  },
  {
   "cell_type": "markdown",
   "id": "03333f25",
   "metadata": {},
   "source": [
    "For all three social classes, the bulk of values sit below $ 50-100. However, there are quite a few outliers in all three social classes. It would be interesting to see how a higher fare might influence survival likelihood (for example, perhaps it would indicate preferential cabin placement closer to the deck, which would make it easier to evacuate). "
   ]
  },
  {
   "cell_type": "markdown",
   "id": "83a7b4f4",
   "metadata": {},
   "source": [
    "Next, it would be interesting to see a the distribution of survivors based on age and sex. "
   ]
  },
  {
   "cell_type": "code",
   "execution_count": 5,
   "id": "4e4e765f",
   "metadata": {},
   "outputs": [
    {
     "data": {
      "text/html": [
       "<div>\n",
       "<style scoped>\n",
       "    .dataframe tbody tr th:only-of-type {\n",
       "        vertical-align: middle;\n",
       "    }\n",
       "\n",
       "    .dataframe tbody tr th {\n",
       "        vertical-align: top;\n",
       "    }\n",
       "\n",
       "    .dataframe thead th {\n",
       "        text-align: right;\n",
       "    }\n",
       "</style>\n",
       "<table border=\"1\" class=\"dataframe\">\n",
       "  <thead>\n",
       "    <tr style=\"text-align: right;\">\n",
       "      <th></th>\n",
       "      <th>PassengerId</th>\n",
       "      <th>Survived</th>\n",
       "      <th>Pclass</th>\n",
       "      <th>Name</th>\n",
       "      <th>Sex</th>\n",
       "      <th>Age</th>\n",
       "      <th>SibSp</th>\n",
       "      <th>Parch</th>\n",
       "      <th>Ticket</th>\n",
       "      <th>Fare</th>\n",
       "      <th>Cabin</th>\n",
       "      <th>Embarked</th>\n",
       "    </tr>\n",
       "  </thead>\n",
       "  <tbody>\n",
       "    <tr>\n",
       "      <th>1</th>\n",
       "      <td>2</td>\n",
       "      <td>1</td>\n",
       "      <td>1</td>\n",
       "      <td>Cumings, Mrs. John Bradley (Florence Briggs Th...</td>\n",
       "      <td>female</td>\n",
       "      <td>38.0</td>\n",
       "      <td>1</td>\n",
       "      <td>0</td>\n",
       "      <td>PC 17599</td>\n",
       "      <td>71.2833</td>\n",
       "      <td>C85</td>\n",
       "      <td>C</td>\n",
       "    </tr>\n",
       "    <tr>\n",
       "      <th>2</th>\n",
       "      <td>3</td>\n",
       "      <td>1</td>\n",
       "      <td>3</td>\n",
       "      <td>Heikkinen, Miss. Laina</td>\n",
       "      <td>female</td>\n",
       "      <td>26.0</td>\n",
       "      <td>0</td>\n",
       "      <td>0</td>\n",
       "      <td>STON/O2. 3101282</td>\n",
       "      <td>7.9250</td>\n",
       "      <td>NaN</td>\n",
       "      <td>S</td>\n",
       "    </tr>\n",
       "    <tr>\n",
       "      <th>3</th>\n",
       "      <td>4</td>\n",
       "      <td>1</td>\n",
       "      <td>1</td>\n",
       "      <td>Futrelle, Mrs. Jacques Heath (Lily May Peel)</td>\n",
       "      <td>female</td>\n",
       "      <td>35.0</td>\n",
       "      <td>1</td>\n",
       "      <td>0</td>\n",
       "      <td>113803</td>\n",
       "      <td>53.1000</td>\n",
       "      <td>C123</td>\n",
       "      <td>S</td>\n",
       "    </tr>\n",
       "    <tr>\n",
       "      <th>8</th>\n",
       "      <td>9</td>\n",
       "      <td>1</td>\n",
       "      <td>3</td>\n",
       "      <td>Johnson, Mrs. Oscar W (Elisabeth Vilhelmina Berg)</td>\n",
       "      <td>female</td>\n",
       "      <td>27.0</td>\n",
       "      <td>0</td>\n",
       "      <td>2</td>\n",
       "      <td>347742</td>\n",
       "      <td>11.1333</td>\n",
       "      <td>NaN</td>\n",
       "      <td>S</td>\n",
       "    </tr>\n",
       "    <tr>\n",
       "      <th>9</th>\n",
       "      <td>10</td>\n",
       "      <td>1</td>\n",
       "      <td>2</td>\n",
       "      <td>Nasser, Mrs. Nicholas (Adele Achem)</td>\n",
       "      <td>female</td>\n",
       "      <td>14.0</td>\n",
       "      <td>1</td>\n",
       "      <td>0</td>\n",
       "      <td>237736</td>\n",
       "      <td>30.0708</td>\n",
       "      <td>NaN</td>\n",
       "      <td>C</td>\n",
       "    </tr>\n",
       "  </tbody>\n",
       "</table>\n",
       "</div>"
      ],
      "text/plain": [
       "   PassengerId  Survived  Pclass  \\\n",
       "1            2         1       1   \n",
       "2            3         1       3   \n",
       "3            4         1       1   \n",
       "8            9         1       3   \n",
       "9           10         1       2   \n",
       "\n",
       "                                                Name     Sex   Age  SibSp  \\\n",
       "1  Cumings, Mrs. John Bradley (Florence Briggs Th...  female  38.0      1   \n",
       "2                             Heikkinen, Miss. Laina  female  26.0      0   \n",
       "3       Futrelle, Mrs. Jacques Heath (Lily May Peel)  female  35.0      1   \n",
       "8  Johnson, Mrs. Oscar W (Elisabeth Vilhelmina Berg)  female  27.0      0   \n",
       "9                Nasser, Mrs. Nicholas (Adele Achem)  female  14.0      1   \n",
       "\n",
       "   Parch            Ticket     Fare Cabin Embarked  \n",
       "1      0          PC 17599  71.2833   C85        C  \n",
       "2      0  STON/O2. 3101282   7.9250   NaN        S  \n",
       "3      0            113803  53.1000  C123        S  \n",
       "8      2            347742  11.1333   NaN        S  \n",
       "9      0            237736  30.0708   NaN        C  "
      ]
     },
     "execution_count": 5,
     "metadata": {},
     "output_type": "execute_result"
    }
   ],
   "source": [
    "df_survivors = titanic_train[(titanic_train.Survived == 1)]\n",
    "df_survivors.head()"
   ]
  },
  {
   "cell_type": "code",
   "execution_count": 6,
   "id": "9da00939",
   "metadata": {},
   "outputs": [
    {
     "data": {
      "image/png": "[encoded data removed]",
      "text/plain": [
       "<Figure size 720x504 with 1 Axes>"
      ]
     },
     "metadata": {},
     "output_type": "display_data"
    }
   ],
   "source": [
    "plt.figure(figsize = (10,7))\n",
    "sns.histplot(x = 'Age', hue = 'Sex', element = 'step', data = df_survivors)\n",
    "plt.show()"
   ]
  },
  {
   "cell_type": "markdown",
   "id": "e54fe72b",
   "metadata": {},
   "source": [
    "We see a multimodal histogram when examining the count of survivors from age. We see the first peak between 0-5 years of age. These are likely passengers who would be cared for and heavily supervised by older passengers.  The distributions sees a secondary peak between 20 and 30 years of age, which gradually descends as passengers get older.\n",
    "\n",
    "The histogram also shows that far fewer men survived than women in age-ranges greater than 15-20 years of age. The distribution is really a testament to the statement 'women and children first'."
   ]
  },
  {
   "cell_type": "markdown",
   "id": "db207558",
   "metadata": {},
   "source": [
    "# Feature Engineering"
   ]
  },
  {
   "cell_type": "markdown",
   "id": "1a80bd27",
   "metadata": {},
   "source": [
    "In this next section, we will take a look at some new features we can create from the existing variables in the dataset.\n",
    "\n",
    "First, our column cabin won't really be useful in our model. However, the cabin column contains information about which deck the passengers were located on. This can be done by extracting the first letter from the cabin column.\n",
    "\n",
    "The Titanic had 10 decks in total, however passenger decks were located on decks B to G.\n",
    "\n",
    "This could be useful information, since it could be more difficult for a passenger to evacuate if they were located on a lower deck."
   ]
  },
  {
   "cell_type": "markdown",
   "id": "0b9e7c0e",
   "metadata": {},
   "source": [
    "Another interesting feature to create would be family size. \n",
    "\n",
    "This can easily be done by adding the columns SibSp and Parch (Siblings, Spouses, Parents, Children) together."
   ]
  },
  {
   "cell_type": "markdown",
   "id": "0b14d896",
   "metadata": {},
   "source": [
    "Finally, another interesting piece of information to look at would be the passenger's title. This can be extracted from the Name attribute."
   ]
  },
  {
   "cell_type": "code",
   "execution_count": 7,
   "id": "9c9adaef",
   "metadata": {},
   "outputs": [],
   "source": [
    "def feature_engineering(df):\n",
    "    # Deck = Leftmost character of cabin\n",
    "    df['Deck'] = df['Cabin'].str[0]\n",
    "    df['Deck'] = df['Deck'].fillna('Unknown')\n",
    "    df = df.drop('Cabin', axis = 1)\n",
    "\n",
    "    \n",
    "    # Family Size = Siblings + Spouses + Parents + Children\n",
    "    df['FamilySize'] = df['SibSp'] + df['Parch']\n",
    "    df.drop(['SibSp','Parch'], axis = 1, inplace = True)\n",
    "    \n",
    "    #Extracting Title from Name\n",
    "    df[['LastName','FirstName']] = df['Name'].str.split(', ', expand = True)\n",
    "    df['Title'] = df['FirstName'].str.split('.').str[0]\n",
    "    df.drop(['FirstName','LastName','Name'], axis = 1, inplace = True)\n",
    "    \n",
    "    return df\n",
    "\n",
    "titanic_train = feature_engineering(titanic_train)\n",
    "titanic_test = feature_engineering(titanic_test)"
   ]
  },
  {
   "cell_type": "markdown",
   "id": "bfb02084",
   "metadata": {},
   "source": [
    "# Preprocessing The Data"
   ]
  },
  {
   "cell_type": "markdown",
   "id": "03f563e8",
   "metadata": {},
   "source": [
    "Before we start building our model, we have to preprocess the data to avoid later issues.\n",
    "We will start by examining null values in our dataset."
   ]
  },
  {
   "cell_type": "markdown",
   "id": "c80ca8ef",
   "metadata": {},
   "source": [
    "First, Embarked only has 2 null values. Since there won't be much data loss and accurate values are impossible to impute, we will just drop those rows."
   ]
  },
  {
   "cell_type": "code",
   "execution_count": 8,
   "id": "11ae4fd2",
   "metadata": {},
   "outputs": [],
   "source": [
    "titanic_train = titanic_train.dropna(subset = ['Embarked'],axis = 0)"
   ]
  },
  {
   "cell_type": "code",
   "execution_count": 9,
   "id": "4d5af988",
   "metadata": {},
   "outputs": [],
   "source": [
    "titanic_test = titanic_test.dropna(subset = ['Fare'], axis = 0)"
   ]
  },
  {
   "cell_type": "code",
   "execution_count": 10,
   "id": "50766bc0",
   "metadata": {},
   "outputs": [],
   "source": [
    "#Separating features and labels\n",
    "titanic_train_features = titanic_train.drop('Survived', axis = 1)\n",
    "titanic_train_labels = titanic_train['Survived'].copy()"
   ]
  },
  {
   "cell_type": "code",
   "execution_count": 11,
   "id": "306b1960",
   "metadata": {},
   "outputs": [
    {
     "data": {
      "text/plain": [
       "PassengerId      0\n",
       "Pclass           0\n",
       "Sex              0\n",
       "Age            177\n",
       "Ticket           0\n",
       "Fare             0\n",
       "Embarked         0\n",
       "Deck             0\n",
       "FamilySize       0\n",
       "Title            0\n",
       "dtype: int64"
      ]
     },
     "execution_count": 11,
     "metadata": {},
     "output_type": "execute_result"
    }
   ],
   "source": [
    "titanic_train_features.isnull().sum(axis = 0)"
   ]
  },
  {
   "cell_type": "markdown",
   "id": "82b5d9cf",
   "metadata": {},
   "source": [
    "Next, I want to restrict my training data to only relevant variables. For the purposes of this analysis, I will be removing PassengerId. I already dropped Cabin and Name in the Feature Engineering function, as both were used to create more useful variables (Deck, Title)"
   ]
  },
  {
   "cell_type": "markdown",
   "id": "2f39efc5",
   "metadata": {},
   "source": [
    "Next, I will handle the remainder of missing values, which occur in the age category. I'll start again by taking a look at the distribution of ages in our dataset to determine whether imputation of the mean or median is most appropriate for this variables"
   ]
  },
  {
   "cell_type": "code",
   "execution_count": 12,
   "id": "e4b46215",
   "metadata": {},
   "outputs": [],
   "source": [
    "def data_preprocess(df):\n",
    "    \n",
    "    df['Age'].fillna(df['Age'].median(), inplace = True)\n",
    "    \n",
    "    #Log + 1 to avoid divide by zero error\n",
    "    df['Logfare'] = np.log(df['Fare']+1)\n",
    "    df = df.drop('Fare', axis = 1)\n",
    "    \n",
    "    df = df.drop('PassengerId', axis = 1)\n",
    "    df = df.drop('Ticket', axis = 1)\n",
    "    \n",
    "    return df\n",
    "\n",
    "titanic_train_features = data_preprocess(titanic_train_features)\n",
    "titanic_test = data_preprocess(titanic_test)"
   ]
  },
  {
   "cell_type": "code",
   "execution_count": 13,
   "id": "88546cb4",
   "metadata": {},
   "outputs": [
    {
     "data": {
      "image/png": "[encoded data removed]",
      "text/plain": [
       "<Figure size 720x504 with 1 Axes>"
      ]
     },
     "metadata": {},
     "output_type": "display_data"
    }
   ],
   "source": [
    "plt.figure(figsize = (10,7))\n",
    "sns.histplot(x = 'Age', data = titanic_train)\n",
    "plt.show()"
   ]
  },
  {
   "cell_type": "markdown",
   "id": "c4130327",
   "metadata": {},
   "source": [
    "The distribution is right skewed, with the bulk of values laying on the left of the histogram. This means that we will have a number of high value outliers that will inflate the mean. Therefore, because the distribution is so right skewed, I think that it would be more accurate to impute age with the median value than then the mean."
   ]
  },
  {
   "cell_type": "markdown",
   "id": "84e7c1f0",
   "metadata": {},
   "source": [
    "I also want to examine the distribution of fare to see if it would benefit from normalization."
   ]
  },
  {
   "cell_type": "code",
   "execution_count": 14,
   "id": "150bc34e",
   "metadata": {},
   "outputs": [
    {
     "data": {
      "image/png": "[encoded data removed]",
      "text/plain": [
       "<Figure size 720x504 with 1 Axes>"
      ]
     },
     "metadata": {},
     "output_type": "display_data"
    }
   ],
   "source": [
    "plt.figure(figsize = (10,7))\n",
    "sns.histplot(x = 'Fare', data = titanic_train)\n",
    "plt.show()"
   ]
  },
  {
   "cell_type": "markdown",
   "id": "0892c090",
   "metadata": {},
   "source": [
    "The distribution of fare is extremely right skewed. Therefore, I will try log transforming fare in an effort to later reduce the overall error of the model's predictions.\n",
    "\n",
    "Note: I could not find a conclusive answer regarding 0 fare values online. \n",
    "\n",
    "I know that at least some of the 0 values were crew members who boarded in Southhampton and I do not have an explanation for the ones who were not crew members. Therefore, I don't feel entirely comfortable with completely removing or imputing the $0 values."
   ]
  },
  {
   "cell_type": "code",
   "execution_count": 15,
   "id": "940df64a",
   "metadata": {},
   "outputs": [
    {
     "data": {
      "image/png": "[encoded data removed]",
      "text/plain": [
       "<Figure size 720x504 with 1 Axes>"
      ]
     },
     "metadata": {},
     "output_type": "display_data"
    }
   ],
   "source": [
    "plt.figure(figsize = (10,7))\n",
    "sns.histplot(x = 'Logfare', data = titanic_train_features)\n",
    "plt.show()"
   ]
  },
  {
   "cell_type": "markdown",
   "id": "acda2167",
   "metadata": {},
   "source": [
    "This produces a more normalized version of fare that will likely be more useful in our model."
   ]
  },
  {
   "cell_type": "markdown",
   "id": "768c655f",
   "metadata": {},
   "source": [
    "Next, I need to encode all categorical variables in my dataset in order to use them. I will be using One Hot Encoding for this project. \n",
    "\n",
    "We will use One Hot Encoding because normal Label Encoding assumes an ordinal relationship between levels in a given categorical column, which can lead to poor performance on the model. One Hot Encoding eliminates this problem by creating dummy variables for each level of a given categorical variable."
   ]
  },
  {
   "cell_type": "code",
   "execution_count": 16,
   "id": "05b7e199",
   "metadata": {},
   "outputs": [],
   "source": [
    "num_attributes = titanic_train_features.select_dtypes(exclude = 'object').columns\n",
    "cat_attributes = titanic_train_features.select_dtypes(include = 'object').columns"
   ]
  },
  {
   "cell_type": "markdown",
   "id": "1395a2f9",
   "metadata": {},
   "source": [
    "Since the test data for this project doesn't have any labels, we will need to split our training set further to test out of sample performance of our model."
   ]
  },
  {
   "cell_type": "code",
   "execution_count": 17,
   "id": "286e1ff2",
   "metadata": {},
   "outputs": [],
   "source": [
    "X_train, X_test, y_train, y_test = train_test_split(titanic_train_features, titanic_train_labels, test_size = 0.2, \n",
    "                                                    random_state = 42)"
   ]
  },
  {
   "cell_type": "code",
   "execution_count": 18,
   "id": "5f682ecf",
   "metadata": {},
   "outputs": [],
   "source": [
    "full_pipeline = ColumnTransformer([\n",
    "    ('std_scaler',StandardScaler(),num_attributes),\n",
    "    ('ohe', OneHotEncoder(handle_unknown = 'ignore'), cat_attributes)\n",
    "])\n",
    "\n",
    "X_train = full_pipeline.fit_transform(X_train)\n",
    "X_test = full_pipeline.transform(X_test)\n",
    "\n",
    "titanic_test_transformed = full_pipeline.transform(titanic_test)"
   ]
  },
  {
   "cell_type": "markdown",
   "id": "8bfaf037",
   "metadata": {},
   "source": [
    "# Building The Model"
   ]
  },
  {
   "cell_type": "markdown",
   "id": "c1cd2dcb",
   "metadata": {},
   "source": [
    "First, we have to select a model "
   ]
  },
  {
   "cell_type": "code",
   "execution_count": 19,
   "id": "6b82655e",
   "metadata": {},
   "outputs": [],
   "source": [
    "from sklearn.model_selection import cross_val_score\n",
    "from sklearn.naive_bayes import GaussianNB\n",
    "from sklearn.linear_model import LogisticRegression\n",
    "from sklearn.tree import DecisionTreeClassifier\n",
    "from sklearn.ensemble import RandomForestClassifier\n",
    "from sklearn.neighbors import KNeighborsClassifier\n",
    "from sklearn.linear_model import SGDClassifier"
   ]
  },
  {
   "cell_type": "code",
   "execution_count": 20,
   "id": "573df4a5",
   "metadata": {},
   "outputs": [],
   "source": [
    "def display_scores(score):\n",
    "    print('Scores: ', score)\n",
    "    print('Mean', score.mean())\n",
    "    print('Standard Deviation: ', score.std())"
   ]
  },
  {
   "cell_type": "code",
   "execution_count": 21,
   "id": "8746f334",
   "metadata": {},
   "outputs": [],
   "source": [
    "X_train = X_train.toarray()"
   ]
  },
  {
   "cell_type": "code",
   "execution_count": 22,
   "id": "7b76b4e8",
   "metadata": {},
   "outputs": [],
   "source": [
    "def fit_models(features, labels):\n",
    "    nb = GaussianNB()\n",
    "    lgm = LogisticRegression()\n",
    "    dtc = DecisionTreeClassifier()\n",
    "    rfc = RandomForestClassifier()\n",
    "    knc = KNeighborsClassifier()\n",
    "    sgdc = SGDClassifier()\n",
    "    \n",
    "    model_list = [nb,lgm,dtc,rfc,knc,sgdc]\n",
    "    \n",
    "    for item in model_list:\n",
    "        score = cross_val_score(item,features,labels,cv = 10, scoring = 'f1')\n",
    "        print(f'{type(item).__name__}'.split('=')[0],'\\n')\n",
    "        display_scores(score)\n",
    "        print('\\n')"
   ]
  },
  {
   "cell_type": "code",
   "execution_count": 23,
   "id": "3e29b717",
   "metadata": {},
   "outputs": [
    {
     "name": "stdout",
     "output_type": "stream",
     "text": [
      "GaussianNB \n",
      "\n",
      "Scores:  [0.35       0.36363636 0.19354839 0.38888889 0.2        0.54054054\n",
      " 0.24242424 0.19354839 0.42105263 0.42105263]\n",
      "Mean 0.33146920728414786\n",
      "Standard Deviation:  0.11300168219171126\n",
      "\n",
      "\n",
      "LogisticRegression \n",
      "\n",
      "Scores:  [0.72727273 0.80701754 0.73076923 0.80701754 0.79245283 0.80769231\n",
      " 0.7755102  0.79245283 0.72727273 0.76      ]\n",
      "Mean 0.7727457945185282\n",
      "Standard Deviation:  0.032272012224895126\n",
      "\n",
      "\n",
      "DecisionTreeClassifier \n",
      "\n",
      "Scores:  [0.70588235 0.72413793 0.72       0.79245283 0.74576271 0.77777778\n",
      " 0.76363636 0.71698113 0.77966102 0.74074074]\n",
      "Mean 0.7467032857208251\n",
      "Standard Deviation:  0.028705466976818354\n",
      "\n",
      "\n",
      "RandomForestClassifier \n",
      "\n",
      "Scores:  [0.69387755 0.74576271 0.73076923 0.83636364 0.77777778 0.83636364\n",
      " 0.70833333 0.75555556 0.75862069 0.76595745]\n",
      "Mean 0.7609381569511668\n",
      "Standard Deviation:  0.04486197233529316\n",
      "\n",
      "\n",
      "KNeighborsClassifier \n",
      "\n",
      "Scores:  [0.72       0.82142857 0.76363636 0.85185185 0.76923077 0.81481481\n",
      " 0.73913043 0.80851064 0.75862069 0.72      ]\n",
      "Mean 0.7767224133698025\n",
      "Standard Deviation:  0.043020528156906074\n",
      "\n",
      "\n",
      "SGDClassifier \n",
      "\n",
      "Scores:  [0.66666667 0.73076923 0.70175439 0.81481481 0.76363636 0.76923077\n",
      " 0.76923077 0.69565217 0.75       0.66666667]\n",
      "Mean 0.7328421840893238\n",
      "Standard Deviation:  0.04660760236588685\n",
      "\n",
      "\n"
     ]
    }
   ],
   "source": [
    "fit_models(X_train,y_train)"
   ]
  },
  {
   "cell_type": "markdown",
   "id": "cb0448ce",
   "metadata": {},
   "source": [
    "Logistic Regression and KNeighborsClassifier have the highest mean F1 scores. "
   ]
  },
  {
   "cell_type": "code",
   "execution_count": 24,
   "id": "2656f7c9",
   "metadata": {},
   "outputs": [],
   "source": [
    "lgm = LogisticRegression()\n",
    "lgm.fit(X_train,y_train)\n",
    "predictions = lgm.predict(X_test)"
   ]
  },
  {
   "cell_type": "code",
   "execution_count": 25,
   "id": "1076d9d2",
   "metadata": {},
   "outputs": [
    {
     "name": "stdout",
     "output_type": "stream",
     "text": [
      "              precision    recall  f1-score   support\n",
      "\n",
      "           0       0.87      0.84      0.86       109\n",
      "           1       0.76      0.80      0.78        69\n",
      "\n",
      "    accuracy                           0.83       178\n",
      "   macro avg       0.82      0.82      0.82       178\n",
      "weighted avg       0.83      0.83      0.83       178\n",
      "\n"
     ]
    }
   ],
   "source": [
    "from sklearn.metrics import classification_report\n",
    "print(classification_report(y_test, predictions))"
   ]
  },
  {
   "cell_type": "markdown",
   "id": "a7f571c6",
   "metadata": {},
   "source": [
    "The model performs fairly well out of sample with 83% accuracy. Next we will look at optimizing the model."
   ]
  },
  {
   "cell_type": "code",
   "execution_count": 26,
   "id": "5f1a67fc",
   "metadata": {},
   "outputs": [],
   "source": [
    "from sklearn.model_selection import GridSearchCV\n",
    "from sklearn.model_selection import RandomizedSearchCV"
   ]
  },
  {
   "cell_type": "code",
   "execution_count": 27,
   "id": "e5c553f7",
   "metadata": {},
   "outputs": [
    {
     "name": "stderr",
     "output_type": "stream",
     "text": [
      "C:\\Users\\Nickf\\anaconda3\\lib\\site-packages\\sklearn\\model_selection\\_validation.py:372: FitFailedWarning: \n",
      "30 fits failed out of a total of 180.\n",
      "The score on these train-test partitions for these parameters will be set to nan.\n",
      "If these failures are not expected, you can try to debug them by setting error_score='raise'.\n",
      "\n",
      "Below are more details about the failures:\n",
      "--------------------------------------------------------------------------------\n",
      "30 fits failed with the following error:\n",
      "Traceback (most recent call last):\n",
      "  File \"C:\\Users\\Nickf\\anaconda3\\lib\\site-packages\\sklearn\\model_selection\\_validation.py\", line 681, in _fit_and_score\n",
      "    estimator.fit(X_train, y_train, **fit_params)\n",
      "  File \"C:\\Users\\Nickf\\anaconda3\\lib\\site-packages\\sklearn\\linear_model\\_logistic.py\", line 1461, in fit\n",
      "    solver = _check_solver(self.solver, self.penalty, self.dual)\n",
      "  File \"C:\\Users\\Nickf\\anaconda3\\lib\\site-packages\\sklearn\\linear_model\\_logistic.py\", line 447, in _check_solver\n",
      "    raise ValueError(\n",
      "ValueError: Solver sag supports only 'l2' or 'none' penalties, got l1 penalty.\n",
      "\n",
      "  warnings.warn(some_fits_failed_message, FitFailedWarning)\n",
      "C:\\Users\\Nickf\\anaconda3\\lib\\site-packages\\sklearn\\model_selection\\_search.py:969: UserWarning: One or more of the test scores are non-finite: [0.61885157        nan 0.61885157 0.79606028 0.79185462 0.79185462\n",
      " 0.80449128        nan 0.80448143 0.81573919 0.81713779 0.81713779\n",
      " 0.82699695        nan 0.82699695 0.82841525 0.82841525 0.82841525\n",
      " 0.82699695        nan 0.82699695 0.82841525 0.82841525 0.82841525\n",
      " 0.82841525        nan 0.82841525 0.82841525 0.82841525 0.82841525\n",
      " 0.8270068         nan 0.8270068  0.8270068  0.8270068  0.8270068 ]\n",
      "  warnings.warn(\n"
     ]
    },
    {
     "data": {
      "text/plain": [
       "{'C': 1, 'max_iter': 2000, 'penalty': 'l2', 'solver': 'liblinear'}"
      ]
     },
     "execution_count": 27,
     "metadata": {},
     "output_type": "execute_result"
    }
   ],
   "source": [
    "parameter_grid = {'C': [0.01, 0.1, 1, 2, 10, 100],'solver' : ['liblinear','sag','saga'], 'penalty': ['l1','l2'],'max_iter' : [2000]}\n",
    "gridsearch = GridSearchCV(lgm,parameter_grid,cv = 5, scoring = 'accuracy')\n",
    "gridsearch.fit(X_train,y_train)\n",
    "gridsearch.best_params_"
   ]
  },
  {
   "cell_type": "code",
   "execution_count": 28,
   "id": "ff97556a",
   "metadata": {},
   "outputs": [
    {
     "name": "stderr",
     "output_type": "stream",
     "text": [
      "C:\\Users\\Nickf\\anaconda3\\lib\\site-packages\\sklearn\\model_selection\\_validation.py:372: FitFailedWarning: \n",
      "10 fits failed out of a total of 50.\n",
      "The score on these train-test partitions for these parameters will be set to nan.\n",
      "If these failures are not expected, you can try to debug them by setting error_score='raise'.\n",
      "\n",
      "Below are more details about the failures:\n",
      "--------------------------------------------------------------------------------\n",
      "10 fits failed with the following error:\n",
      "Traceback (most recent call last):\n",
      "  File \"C:\\Users\\Nickf\\anaconda3\\lib\\site-packages\\sklearn\\model_selection\\_validation.py\", line 681, in _fit_and_score\n",
      "    estimator.fit(X_train, y_train, **fit_params)\n",
      "  File \"C:\\Users\\Nickf\\anaconda3\\lib\\site-packages\\sklearn\\linear_model\\_logistic.py\", line 1461, in fit\n",
      "    solver = _check_solver(self.solver, self.penalty, self.dual)\n",
      "  File \"C:\\Users\\Nickf\\anaconda3\\lib\\site-packages\\sklearn\\linear_model\\_logistic.py\", line 447, in _check_solver\n",
      "    raise ValueError(\n",
      "ValueError: Solver sag supports only 'l2' or 'none' penalties, got l1 penalty.\n",
      "\n",
      "  warnings.warn(some_fits_failed_message, FitFailedWarning)\n",
      "C:\\Users\\Nickf\\anaconda3\\lib\\site-packages\\sklearn\\model_selection\\_search.py:969: UserWarning: One or more of the test scores are non-finite: [0.80449128 0.79185462 0.61885157 0.82841525 0.82699695        nan\n",
      " 0.61885157        nan 0.79185462 0.8270068 ]\n",
      "  warnings.warn(\n"
     ]
    },
    {
     "data": {
      "text/plain": [
       "{'solver': 'liblinear', 'penalty': 'l2', 'max_iter': 2000, 'C': 2}"
      ]
     },
     "execution_count": 28,
     "metadata": {},
     "output_type": "execute_result"
    }
   ],
   "source": [
    "randomsearch = RandomizedSearchCV(lgm,parameter_grid,cv = 5, scoring = 'accuracy')\n",
    "randomsearch.fit(X_train,y_train)\n",
    "randomsearch.best_params_"
   ]
  },
  {
   "cell_type": "code",
   "execution_count": 29,
   "id": "f7d7333b",
   "metadata": {},
   "outputs": [
    {
     "name": "stdout",
     "output_type": "stream",
     "text": [
      "              precision    recall  f1-score   support\n",
      "\n",
      "           0       0.87      0.77      0.82       109\n",
      "           1       0.69      0.81      0.75        69\n",
      "\n",
      "    accuracy                           0.79       178\n",
      "   macro avg       0.78      0.79      0.78       178\n",
      "weighted avg       0.80      0.79      0.79       178\n",
      "\n"
     ]
    }
   ],
   "source": [
    "lgm2 = LogisticRegression(C=10, penalty = 'l2', solver = 'liblinear', class_weight = 'balanced', max_iter  = 2000)\n",
    "lgm2.fit(X_train,y_train)\n",
    "predictions2 = lgm2.predict(X_test)\n",
    "print(classification_report(y_test,predictions2))"
   ]
  },
  {
   "cell_type": "markdown",
   "id": "feebe684",
   "metadata": {},
   "source": [
    "The default parameters for our Logistic Regression model perform better than the tuned hyperparameters."
   ]
  },
  {
   "cell_type": "code",
   "execution_count": 30,
   "id": "a24a81f3",
   "metadata": {},
   "outputs": [
    {
     "name": "stdout",
     "output_type": "stream",
     "text": [
      "Num Features: 19\n",
      "              precision    recall  f1-score   support\n",
      "\n",
      "           0       0.87      0.84      0.86       109\n",
      "           1       0.76      0.80      0.78        69\n",
      "\n",
      "    accuracy                           0.83       178\n",
      "   macro avg       0.82      0.82      0.82       178\n",
      "weighted avg       0.83      0.83      0.83       178\n",
      "\n"
     ]
    }
   ],
   "source": [
    "from sklearn.feature_selection import RFECV\n",
    "\n",
    "lgm3 = LogisticRegression()\n",
    "rfe = RFECV(estimator = lgm3, step = 1, cv = 10, scoring = 'accuracy')\n",
    "fit = rfe.fit(X_train,y_train)\n",
    "\n",
    "print(\"Num Features: %d\" % fit.n_features_)\n",
    "\n",
    "predictions3 = fit.predict(X_test)\n",
    "print(classification_report(y_test,predictions3))"
   ]
  },
  {
   "cell_type": "code",
   "execution_count": 32,
   "id": "c980edb6",
   "metadata": {},
   "outputs": [],
   "source": [
    "final_predictions = pd.Series(fit.predict(titanic_test_transformed))\n",
    "titanic_test['Survived_pred'] = final_predictions"
   ]
  },
  {
   "cell_type": "code",
   "execution_count": 37,
   "id": "0064749c",
   "metadata": {},
   "outputs": [
    {
     "data": {
      "text/html": [
       "<div>\n",
       "<style scoped>\n",
       "    .dataframe tbody tr th:only-of-type {\n",
       "        vertical-align: middle;\n",
       "    }\n",
       "\n",
       "    .dataframe tbody tr th {\n",
       "        vertical-align: top;\n",
       "    }\n",
       "\n",
       "    .dataframe thead th {\n",
       "        text-align: right;\n",
       "    }\n",
       "</style>\n",
       "<table border=\"1\" class=\"dataframe\">\n",
       "  <thead>\n",
       "    <tr style=\"text-align: right;\">\n",
       "      <th></th>\n",
       "      <th>Pclass</th>\n",
       "      <th>Sex</th>\n",
       "      <th>Age</th>\n",
       "      <th>Embarked</th>\n",
       "      <th>Deck</th>\n",
       "      <th>FamilySize</th>\n",
       "      <th>Title</th>\n",
       "      <th>Logfare</th>\n",
       "      <th>Survived_pred</th>\n",
       "    </tr>\n",
       "  </thead>\n",
       "  <tbody>\n",
       "    <tr>\n",
       "      <th>0</th>\n",
       "      <td>3</td>\n",
       "      <td>male</td>\n",
       "      <td>34.5</td>\n",
       "      <td>Q</td>\n",
       "      <td>Unknown</td>\n",
       "      <td>0</td>\n",
       "      <td>Mr</td>\n",
       "      <td>2.178064</td>\n",
       "      <td>0.0</td>\n",
       "    </tr>\n",
       "    <tr>\n",
       "      <th>1</th>\n",
       "      <td>3</td>\n",
       "      <td>female</td>\n",
       "      <td>47.0</td>\n",
       "      <td>S</td>\n",
       "      <td>Unknown</td>\n",
       "      <td>1</td>\n",
       "      <td>Mrs</td>\n",
       "      <td>2.079442</td>\n",
       "      <td>1.0</td>\n",
       "    </tr>\n",
       "    <tr>\n",
       "      <th>2</th>\n",
       "      <td>2</td>\n",
       "      <td>male</td>\n",
       "      <td>62.0</td>\n",
       "      <td>Q</td>\n",
       "      <td>Unknown</td>\n",
       "      <td>0</td>\n",
       "      <td>Mr</td>\n",
       "      <td>2.369075</td>\n",
       "      <td>0.0</td>\n",
       "    </tr>\n",
       "    <tr>\n",
       "      <th>3</th>\n",
       "      <td>3</td>\n",
       "      <td>male</td>\n",
       "      <td>27.0</td>\n",
       "      <td>S</td>\n",
       "      <td>Unknown</td>\n",
       "      <td>0</td>\n",
       "      <td>Mr</td>\n",
       "      <td>2.268252</td>\n",
       "      <td>0.0</td>\n",
       "    </tr>\n",
       "    <tr>\n",
       "      <th>4</th>\n",
       "      <td>3</td>\n",
       "      <td>female</td>\n",
       "      <td>22.0</td>\n",
       "      <td>S</td>\n",
       "      <td>Unknown</td>\n",
       "      <td>2</td>\n",
       "      <td>Mrs</td>\n",
       "      <td>2.586824</td>\n",
       "      <td>1.0</td>\n",
       "    </tr>\n",
       "    <tr>\n",
       "      <th>...</th>\n",
       "      <td>...</td>\n",
       "      <td>...</td>\n",
       "      <td>...</td>\n",
       "      <td>...</td>\n",
       "      <td>...</td>\n",
       "      <td>...</td>\n",
       "      <td>...</td>\n",
       "      <td>...</td>\n",
       "      <td>...</td>\n",
       "    </tr>\n",
       "    <tr>\n",
       "      <th>413</th>\n",
       "      <td>3</td>\n",
       "      <td>male</td>\n",
       "      <td>27.0</td>\n",
       "      <td>S</td>\n",
       "      <td>Unknown</td>\n",
       "      <td>0</td>\n",
       "      <td>Mr</td>\n",
       "      <td>2.202765</td>\n",
       "      <td>1.0</td>\n",
       "    </tr>\n",
       "    <tr>\n",
       "      <th>414</th>\n",
       "      <td>1</td>\n",
       "      <td>female</td>\n",
       "      <td>39.0</td>\n",
       "      <td>C</td>\n",
       "      <td>C</td>\n",
       "      <td>0</td>\n",
       "      <td>Dona</td>\n",
       "      <td>4.699571</td>\n",
       "      <td>0.0</td>\n",
       "    </tr>\n",
       "    <tr>\n",
       "      <th>415</th>\n",
       "      <td>3</td>\n",
       "      <td>male</td>\n",
       "      <td>38.5</td>\n",
       "      <td>S</td>\n",
       "      <td>Unknown</td>\n",
       "      <td>0</td>\n",
       "      <td>Mr</td>\n",
       "      <td>2.110213</td>\n",
       "      <td>0.0</td>\n",
       "    </tr>\n",
       "    <tr>\n",
       "      <th>416</th>\n",
       "      <td>3</td>\n",
       "      <td>male</td>\n",
       "      <td>27.0</td>\n",
       "      <td>S</td>\n",
       "      <td>Unknown</td>\n",
       "      <td>0</td>\n",
       "      <td>Mr</td>\n",
       "      <td>2.202765</td>\n",
       "      <td>1.0</td>\n",
       "    </tr>\n",
       "    <tr>\n",
       "      <th>417</th>\n",
       "      <td>3</td>\n",
       "      <td>male</td>\n",
       "      <td>27.0</td>\n",
       "      <td>C</td>\n",
       "      <td>Unknown</td>\n",
       "      <td>2</td>\n",
       "      <td>Master</td>\n",
       "      <td>3.150952</td>\n",
       "      <td>NaN</td>\n",
       "    </tr>\n",
       "  </tbody>\n",
       "</table>\n",
       "<p>417 rows × 9 columns</p>\n",
       "</div>"
      ],
      "text/plain": [
       "     Pclass     Sex   Age Embarked     Deck  FamilySize   Title   Logfare  \\\n",
       "0         3    male  34.5        Q  Unknown           0      Mr  2.178064   \n",
       "1         3  female  47.0        S  Unknown           1     Mrs  2.079442   \n",
       "2         2    male  62.0        Q  Unknown           0      Mr  2.369075   \n",
       "3         3    male  27.0        S  Unknown           0      Mr  2.268252   \n",
       "4         3  female  22.0        S  Unknown           2     Mrs  2.586824   \n",
       "..      ...     ...   ...      ...      ...         ...     ...       ...   \n",
       "413       3    male  27.0        S  Unknown           0      Mr  2.202765   \n",
       "414       1  female  39.0        C        C           0    Dona  4.699571   \n",
       "415       3    male  38.5        S  Unknown           0      Mr  2.110213   \n",
       "416       3    male  27.0        S  Unknown           0      Mr  2.202765   \n",
       "417       3    male  27.0        C  Unknown           2  Master  3.150952   \n",
       "\n",
       "     Survived_pred  \n",
       "0              0.0  \n",
       "1              1.0  \n",
       "2              0.0  \n",
       "3              0.0  \n",
       "4              1.0  \n",
       "..             ...  \n",
       "413            1.0  \n",
       "414            0.0  \n",
       "415            0.0  \n",
       "416            1.0  \n",
       "417            NaN  \n",
       "\n",
       "[417 rows x 9 columns]"
      ]
     },
     "execution_count": 37,
     "metadata": {},
     "output_type": "execute_result"
    }
   ],
   "source": [
    "titanic_test"
   ]
  },
  {
   "cell_type": "code",
   "execution_count": null,
   "id": "bae2cb93",
   "metadata": {},
   "outputs": [],
   "source": []
  }
 ],
 "metadata": {
  "kernelspec": {
   "display_name": "Python 3 (ipykernel)",
   "language": "python",
   "name": "python3"
  },
  "language_info": {
   "codemirror_mode": {
    "name": "ipython",
    "version": 3
   },
   "file_extension": ".py",
   "mimetype": "text/x-python",
   "name": "python",
   "nbconvert_exporter": "python",
   "pygments_lexer": "ipython3",
   "version": "3.8.8"
  }
 },
 "nbformat": 4,
 "nbformat_minor": 5
}
